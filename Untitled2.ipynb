{
 "cells": [
  {
   "cell_type": "code",
   "execution_count": 1,
   "id": "92191f93",
   "metadata": {},
   "outputs": [
    {
     "ename": "AttributeError",
     "evalue": "'function' object has no attribute 'predict'",
     "output_type": "error",
     "traceback": [
      "\u001b[1;31m---------------------------------------------------------------------------\u001b[0m",
      "\u001b[1;31mAttributeError\u001b[0m                            Traceback (most recent call last)",
      "Cell \u001b[1;32mIn [1], line 45\u001b[0m\n\u001b[0;32m     41\u001b[0m     y\u001b[38;5;241m.\u001b[39mdrop(\u001b[38;5;124m'\u001b[39m\u001b[38;5;124mloan_status\u001b[39m\u001b[38;5;124m'\u001b[39m)\n\u001b[0;32m     42\u001b[0m     \u001b[38;5;28;01mreturn\u001b[39;00m  model\u001b[38;5;241m.\u001b[39mpredict(y)\n\u001b[1;32m---> 45\u001b[0m \u001b[38;5;28mprint\u001b[39m(\u001b[43mmodel\u001b[49m\u001b[43m(\u001b[49m\u001b[43mdata\u001b[49m\u001b[43m)\u001b[49m)\n",
      "Cell \u001b[1;32mIn [1], line 42\u001b[0m, in \u001b[0;36mmodel\u001b[1;34m(data)\u001b[0m\n\u001b[0;32m     40\u001b[0m y \u001b[38;5;241m=\u001b[39m data\u001b[38;5;241m.\u001b[39miloc[\u001b[38;5;241m-\u001b[39m\u001b[38;5;241m1\u001b[39m]\n\u001b[0;32m     41\u001b[0m y\u001b[38;5;241m.\u001b[39mdrop(\u001b[38;5;124m'\u001b[39m\u001b[38;5;124mloan_status\u001b[39m\u001b[38;5;124m'\u001b[39m)\n\u001b[1;32m---> 42\u001b[0m \u001b[38;5;28;01mreturn\u001b[39;00m  \u001b[43mmodel\u001b[49m\u001b[38;5;241;43m.\u001b[39;49m\u001b[43mpredict\u001b[49m(y)\n",
      "\u001b[1;31mAttributeError\u001b[0m: 'function' object has no attribute 'predict'"
     ]
    }
   ],
   "source": [
    "import pandas as pd\n",
    "import pickle\n",
    "from sklearn import preprocessing\n",
    "import os\n",
    "\n",
    "# Load the AI model\n",
    "model = pickle.load(open('model.pkl', 'rb'))\n",
    "\n",
    "data = pd.concat([pd.read_csv(\"data.csv\"), pd.read_csv(\"test.csv\")])\n",
    "\n",
    "pd.set_option(\"display.max_columns\", None)\n",
    "pd.set_option(\"display.width\", 500)\n",
    "\n",
    "for col in data.columns:\n",
    "    if data[col].dtypes == \"bool\":\n",
    "        data[col] = data[col].astype(int)\n",
    "\n",
    "\n",
    "\n",
    "def label_encoder(dataframe):\n",
    "    for col in dataframe.columns:\n",
    "        if dataframe[col].nunique() < 3 and str(dataframe[col].dtypes) in [\"category\", \"object\"]:\n",
    "            le = preprocessing.LabelEncoder()\n",
    "            dataframe[col] = le.fit_transform(dataframe[col].astype(str))\n",
    "            return dataframe\n",
    "\n",
    "def one_hot(dataframe):\n",
    "    for col in dataframe.columns:\n",
    "        if 2 < dataframe[col].nunique() < 8 and str(dataframe[col].dtypes) in [\"category\", \"object\"]:\n",
    "            dataframe = pd.get_dummies(dataframe, columns=[col])\n",
    "    return dataframe\n",
    "\n",
    "def model(data):\n",
    "    data = label_encoder(data)\n",
    "    data = one_hot(data)\n",
    "\n",
    "    data[\"person_emp_length\"] = data[\"person_emp_length\"].fillna(data[\"person_emp_length\"].mean())\n",
    "    data[\"loan_int_rate\"] = data[\"loan_int_rate\"].fillna(data[\"loan_int_rate\"].mean())\n",
    "\n",
    "    y = data.iloc[-1]\n",
    "    y.drop('loan_status')\n",
    "    return  model.predict(y)\n",
    "\n",
    "\n",
    "print(model(data))"
   ]
  },
  {
   "cell_type": "code",
   "execution_count": null,
   "id": "6fa28aec",
   "metadata": {},
   "outputs": [],
   "source": []
  }
 ],
 "metadata": {
  "kernelspec": {
   "display_name": "Python 3 (ipykernel)",
   "language": "python",
   "name": "python3"
  },
  "language_info": {
   "codemirror_mode": {
    "name": "ipython",
    "version": 3
   },
   "file_extension": ".py",
   "mimetype": "text/x-python",
   "name": "python",
   "nbconvert_exporter": "python",
   "pygments_lexer": "ipython3",
   "version": "3.9.7"
  }
 },
 "nbformat": 4,
 "nbformat_minor": 5
}
