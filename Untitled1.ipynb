{
 "cells": [
  {
   "cell_type": "code",
   "execution_count": 144,
   "id": "f2c8b260",
   "metadata": {},
   "outputs": [],
   "source": [
    "import pandas as pd\n",
    "import pickle\n",
    "from sklearn import preprocessing\n",
    "\n",
    "# Load the AI model\n",
    "model = pickle.load(open('model.pkl', 'rb'))\n",
    "\n",
    "data=pd.read_csv(\"data.csv\")\n",
    "test=pd.read_csv(\"test.csv\")\n",
    "\n",
    "data = pd.concat([data, test])\n",
    "\n",
    "pd.set_option(\"display.max_columns\", None)\n",
    "pd.set_option(\"display.width\",500)\n",
    "\n",
    "\n",
    "for col in data.columns:\n",
    "      if data[col].dtypes == \"bool\":\n",
    "        data[col]= data[col].astype(int)\n",
    "        \n",
    "def label_encoder(dataframe):\n",
    "    for col in dataframe.columns:\n",
    "        if dataframe[col].nunique() < 3 and str(dataframe[col].dtypes) in [\"category\",\"object\"] :\n",
    "            le= preprocessing.LabelEncoder()\n",
    "            dataframe[col] = le.fit_transform(dataframe[col].astype(str))\n",
    "            return dataframe\n",
    "        \n",
    "data = label_encoder(data)\n",
    "\n",
    "def one_hot(dataframe):\n",
    "    for col in dataframe.columns:\n",
    "        if 2 < dataframe[col].nunique() < 8 and str(dataframe[col].dtypes) in [\"category\",\"object\"]:\n",
    "            dataframe=pd.get_dummies(dataframe,columns=[col])\n",
    "    return dataframe\n",
    "\n",
    "data = one_hot(data)\n",
    "\n",
    "data[\"person_emp_length\"]= data[\"person_emp_length\"].fillna(data[\"person_emp_length\"].mean())\n",
    "data[\"loan_int_rate\"]= data[\"loan_int_rate\"].fillna(data[\"loan_int_rate\"].mean())\n",
    "\n",
    "y = data.iloc[-1]\n",
    "y.drop('loan_status')\n",
    "y = model.predict([22,59000,123.0,35000,16.02,1,0.59,1,3,0,0,0,1,0,0,0,0,1,0,0,0,0,1,0,0,0])"
   ]
  },
  {
   "cell_type": "code",
   "execution_count": 139,
   "id": "cfb84583",
   "metadata": {},
   "outputs": [
    {
     "data": {
      "text/plain": [
       "person_age                           22.00\n",
       "person_income                     59000.00\n",
       "person_emp_length                   123.00\n",
       "loan_amnt                         35000.00\n",
       "loan_int_rate                        16.02\n",
       "loan_percent_income                   0.59\n",
       "cb_person_default_on_file             1.00\n",
       "cb_person_cred_hist_length            3.00\n",
       "person_home_ownership_MORTGAGE        0.00\n",
       "person_home_ownership_OTHER           0.00\n",
       "person_home_ownership_OWN             0.00\n",
       "person_home_ownership_RENT            1.00\n",
       "loan_intent_DEBTCONSOLIDATION         0.00\n",
       "loan_intent_EDUCATION                 0.00\n",
       "loan_intent_HOMEIMPROVEMENT           0.00\n",
       "loan_intent_MEDICAL                   0.00\n",
       "loan_intent_PERSONAL                  1.00\n",
       "loan_intent_VENTURE                   0.00\n",
       "loan_grade_A                          0.00\n",
       "loan_grade_B                          0.00\n",
       "loan_grade_C                          0.00\n",
       "loan_grade_D                          1.00\n",
       "loan_grade_E                          0.00\n",
       "loan_grade_F                          0.00\n",
       "Name: 0, dtype: float64"
      ]
     },
     "execution_count": 139,
     "metadata": {},
     "output_type": "execute_result"
    }
   ],
   "source": []
  },
  {
   "cell_type": "code",
   "execution_count": 135,
   "id": "9a5effd8",
   "metadata": {},
   "outputs": [],
   "source": []
  },
  {
   "cell_type": "code",
   "execution_count": 145,
   "id": "c28b616f",
   "metadata": {},
   "outputs": [
    {
     "data": {
      "text/plain": [
       "1"
      ]
     },
     "execution_count": 145,
     "metadata": {},
     "output_type": "execute_result"
    }
   ],
   "source": [
    "y"
   ]
  },
  {
   "cell_type": "code",
   "execution_count": 142,
   "id": "8d17706c",
   "metadata": {},
   "outputs": [
    {
     "name": "stderr",
     "output_type": "stream",
     "text": [
      "ERROR: Could not find a version that satisfies the requirement pickle (from versions: none)\n",
      "ERROR: No matching distribution found for pickle\n"
     ]
    }
   ],
   "source": [
    "!pip install pickle"
   ]
  },
  {
   "cell_type": "code",
   "execution_count": null,
   "id": "1e1e8b9d",
   "metadata": {},
   "outputs": [],
   "source": []
  }
 ],
 "metadata": {
  "kernelspec": {
   "display_name": "Python 3 (ipykernel)",
   "language": "python",
   "name": "python3"
  },
  "language_info": {
   "codemirror_mode": {
    "name": "ipython",
    "version": 3
   },
   "file_extension": ".py",
   "mimetype": "text/x-python",
   "name": "python",
   "nbconvert_exporter": "python",
   "pygments_lexer": "ipython3",
   "version": "3.9.7"
  }
 },
 "nbformat": 4,
 "nbformat_minor": 5
}
